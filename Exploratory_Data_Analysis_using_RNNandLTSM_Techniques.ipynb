{
  "metadata": {
    "kernelspec": {
      "display_name": "Python 3",
      "language": "python",
      "name": "python3"
    },
    "language_info": {
      "name": "python",
      "version": "3.6.4",
      "mimetype": "text/x-python",
      "codemirror_mode": {
        "name": "ipython",
        "version": 3
      },
      "pygments_lexer": "ipython3",
      "nbconvert_exporter": "python",
      "file_extension": ".py"
    },
    "kaggle": {
      "accelerator": "none",
      "dataSources": [
        {
          "sourceId": 1575,
          "sourceType": "datasetVersion",
          "datasetId": 854
        }
      ],
      "dockerImageVersionId": 46,
      "isInternetEnabled": false,
      "language": "python",
      "sourceType": "notebook",
      "isGpuEnabled": false
    },
    "colab": {
      "name": "NY Stock Price Prediction RNN LSTM GRU",
      "provenance": []
    }
  },
  "nbformat_minor": 0,
  "nbformat": 4,
  "cells": [
    {
      "source": [
        "\n",
        "\n",
        "import os\n",
        "import sys\n",
        "from tempfile import NamedTemporaryFile\n",
        "from urllib.request import urlopen\n",
        "from urllib.parse import unquote, urlparse\n",
        "from urllib.error import HTTPError\n",
        "from zipfile import ZipFile\n",
        "import tarfile\n",
        "import shutil\n",
        "\n",
        "CHUNK_SIZE = 40960\n",
        "DATA_SOURCE_MAPPING = ':https%3A%2F%2Fstorage.googleapis.com%2Fkaggle-data-sets%2F854%2F1575%2Fbundle%2Farchive.zip%3FX-Goog-Algorithm%3DGOOG4-RSA-SHA256%26X-Goog-Credential%3Dgcp-kaggle-com%2540kaggle-161607.iam.gserviceaccount.com%252F20241010%252Fauto%252Fstorage%252Fgoog4_request%26X-Goog-Date%3D20241010T124028Z%26X-Goog-Expires%3D259200%26X-Goog-SignedHeaders%3Dhost%26X-Goog-Signature%3D3e7bcf6744d992bb69ba6a144d9bb09f77e97c916fe0aa8891e491eeba89224b88df419595e28b313e107a5700affba16aa6641a1b7dc4b89a6b582c08d97dc1f0ac80ecda89684e816870c526164c2a4891467875162186bce515424004dfed39a1650bafe2895b91e3b0676700731a8984d916ec57db30bdb7338fad24243b2f6a6f67b3308c4c728edb413b7f6e3e48cbb8735856f1a663786ddd60713d50c5b03b5195db1b11a5ba43e2ae0991d13fa7acff152602562ebddb645fd659364f8e391a19ecc220816882ca5d25b4c1035bbf466e1ace2bf07c6bff6c75cdeee7ad1ed8617425187b3f3baf8ff05f0fae85d5c690c3f1a7cb3e2a9c8a1941ec'\n",
        "\n",
        "KAGGLE_INPUT_PATH='/kaggle/input'\n",
        "KAGGLE_WORKING_PATH='/kaggle/working'\n",
        "KAGGLE_SYMLINK='kaggle'\n",
        "\n",
        "!umount /kaggle/input/ 2> /dev/null\n",
        "shutil.rmtree('/kaggle/input', ignore_errors=True)\n",
        "os.makedirs(KAGGLE_INPUT_PATH, 0o777, exist_ok=True)\n",
        "os.makedirs(KAGGLE_WORKING_PATH, 0o777, exist_ok=True)\n",
        "\n",
        "try:\n",
        "  os.symlink(KAGGLE_INPUT_PATH, os.path.join(\"..\", 'input'), target_is_directory=True)\n",
        "except FileExistsError:\n",
        "  pass\n",
        "try:\n",
        "  os.symlink(KAGGLE_WORKING_PATH, os.path.join(\"..\", 'working'), target_is_directory=True)\n",
        "except FileExistsError:\n",
        "  pass\n",
        "\n",
        "for data_source_mapping in DATA_SOURCE_MAPPING.split(','):\n",
        "    directory, download_url_encoded = data_source_mapping.split(':')\n",
        "    download_url = unquote(download_url_encoded)\n",
        "    filename = urlparse(download_url).path\n",
        "    destination_path = os.path.join(KAGGLE_INPUT_PATH, directory)\n",
        "    try:\n",
        "        with urlopen(download_url) as fileres, NamedTemporaryFile() as tfile:\n",
        "            total_length = fileres.headers['content-length']\n",
        "            print(f'Downloading {directory}, {total_length} bytes compressed')\n",
        "            dl = 0\n",
        "            data = fileres.read(CHUNK_SIZE)\n",
        "            while len(data) > 0:\n",
        "                dl += len(data)\n",
        "                tfile.write(data)\n",
        "                done = int(50 * dl / int(total_length))\n",
        "                sys.stdout.write(f\"\\r[{'=' * done}{' ' * (50-done)}] {dl} bytes downloaded\")\n",
        "                sys.stdout.flush()\n",
        "                data = fileres.read(CHUNK_SIZE)\n",
        "            if filename.endswith('.zip'):\n",
        "              with ZipFile(tfile) as zfile:\n",
        "                zfile.extractall(destination_path)\n",
        "            else:\n",
        "              with tarfile.open(tfile.name) as tarfile:\n",
        "                tarfile.extractall(destination_path)\n",
        "            print(f'\\nDownloaded and uncompressed: {directory}')\n",
        "    except HTTPError as e:\n",
        "        print(f'Failed to load (likely expired) {download_url} to path {destination_path}')\n",
        "        continue\n",
        "    except OSError as e:\n",
        "        print(f'Failed to load {download_url} to path {destination_path}')\n",
        "        continue\n",
        "\n",
        "print('Data source import complete.')\n"
      ],
      "metadata": {
        "colab": {
          "base_uri": "https://localhost:8080/"
        },
        "id": "ZxUadOukcfbX",
        "outputId": "7c6886ac-f3b6-433e-8b77-5eb4ac7f23f0"
      },
      "cell_type": "code",
      "outputs": [
        {
          "output_type": "stream",
          "name": "stdout",
          "text": [
            "Downloading , 32148316 bytes compressed\n",
            "[==================================================] 32148316 bytes downloaded\n",
            "Downloaded and uncompressed: \n",
            "Data source import complete.\n"
          ]
        }
      ],
      "execution_count": 1
    },
    {
      "cell_type": "markdown",
      "source": [
        "# 1. Libraries and settings <a class=\"anchor\" id=\"1-bullet\"></a>"
      ],
      "metadata": {
        "_uuid": "8ec772a02eb88c3446fe0f689b2e1ee8ec9deb6b",
        "_cell_guid": "1426ca5e-ed0c-4766-ac74-cd1dd38c680c",
        "id": "V5cfTLtUcfba"
      }
    },
    {
      "cell_type": "code",
      "source": [
        "import numpy as np\n",
        "import pandas as pd\n",
        "import math\n",
        "import sklearn\n",
        "import sklearn.preprocessing\n",
        "import datetime\n",
        "import os\n",
        "import matplotlib.pyplot as plt\n",
        "import tensorflow as tf\n",
        "\n",
        "# split data in 80%/10%/10% train/validation/test sets\n",
        "valid_set_size_percentage = 10\n",
        "test_set_size_percentage = 10\n",
        "\n",
        "#display parent directory and working directory\n",
        "print(os.path.dirname(os.getcwd())+':', os.listdir(os.path.dirname(os.getcwd())));\n",
        "print(os.getcwd()+':', os.listdir(os.getcwd()));\n"
      ],
      "metadata": {
        "_uuid": "78e6c0015907947ff5fade7ad76317633d27177a",
        "_cell_guid": "5a142d3f-96b5-4378-bb01-903367721e08",
        "execution": {
          "iopub.status.busy": "2024-10-09T17:10:41.515674Z",
          "iopub.execute_input": "2024-10-09T17:10:41.516162Z",
          "iopub.status.idle": "2024-10-09T17:10:41.535268Z",
          "shell.execute_reply.started": "2024-10-09T17:10:41.516092Z",
          "shell.execute_reply": "2024-10-09T17:10:41.534121Z"
        },
        "trusted": true,
        "id": "RGXTkDtEcfbb",
        "outputId": "301a6b6b-0182-4a3a-880b-18f741f907d7"
      },
      "execution_count": null,
      "outputs": [
        {
          "name": "stdout",
          "text": "/kaggle: ['lib', 'input', 'working']\n/kaggle/working: []\n",
          "output_type": "stream"
        }
      ]
    },
    {
      "cell_type": "markdown",
      "source": [
        "# 2. Analyze data <a class=\"anchor\" id=\"2-bullet\"></a>\n",
        "- load stock prices from prices-split-adjusted.csv\n",
        "- analyze data"
      ],
      "metadata": {
        "_uuid": "9422490f417bc1fcac8e6a0a392faa7451173dac",
        "_cell_guid": "5416ce8a-24ff-4903-a09b-b2941eae71d9",
        "id": "hOwVdkitcfbc"
      }
    },
    {
      "cell_type": "code",
      "source": [
        "# import all stock prices\n",
        "df = pd.read_csv(\"../input/prices-split-adjusted.csv\", index_col = 0)\n",
        "df.info()\n",
        "df.head()\n",
        "\n",
        "# number of different stocks\n",
        "print('\\nnumber of different stocks: ', len(list(set(df.symbol))))\n",
        "print(list(set(df.symbol))[:10])"
      ],
      "metadata": {
        "_uuid": "aef1074dd4f86a9fe5a380c83994123ce56cce9d",
        "_cell_guid": "60dbc696-dda8-476e-8227-010a79df3aa2",
        "execution": {
          "iopub.status.busy": "2024-10-09T17:10:44.923033Z",
          "iopub.execute_input": "2024-10-09T17:10:44.923438Z",
          "iopub.status.idle": "2024-10-09T17:10:47.343402Z",
          "shell.execute_reply.started": "2024-10-09T17:10:44.923351Z",
          "shell.execute_reply": "2024-10-09T17:10:47.342409Z"
        },
        "trusted": true,
        "id": "vPH8da__cfbd",
        "outputId": "f90349bf-b5d2-4f6e-9e77-41675b14d947"
      },
      "execution_count": null,
      "outputs": [
        {
          "name": "stdout",
          "text": "<class 'pandas.core.frame.DataFrame'>\nIndex: 851264 entries, 2016-01-05 to 2016-12-30\nData columns (total 6 columns):\nsymbol    851264 non-null object\nopen      851264 non-null float64\nclose     851264 non-null float64\nlow       851264 non-null float64\nhigh      851264 non-null float64\nvolume    851264 non-null float64\ndtypes: float64(5), object(1)\nmemory usage: 45.5+ MB\n\nnumber of different stocks:  501\n['JCI', 'ACN', 'ADS', 'RCL', 'ZTS', 'NTRS', 'BLL', 'IDXX', 'AIZ', 'GOOGL']\n",
          "output_type": "stream"
        }
      ]
    },
    {
      "cell_type": "code",
      "source": [
        "df.tail()"
      ],
      "metadata": {
        "_uuid": "c06e709a1bfecb963213943dc7ce8cd559780d9b",
        "_cell_guid": "962ea6e1-51ff-4bba-ad30-77ca5c765d59",
        "execution": {
          "iopub.status.busy": "2024-10-09T17:10:51.799427Z",
          "iopub.execute_input": "2024-10-09T17:10:51.799821Z",
          "iopub.status.idle": "2024-10-09T17:10:51.821835Z",
          "shell.execute_reply.started": "2024-10-09T17:10:51.799754Z",
          "shell.execute_reply": "2024-10-09T17:10:51.820397Z"
        },
        "trusted": true,
        "id": "YzTVxE4Icfbe",
        "outputId": "a6baab23-4106-4c0a-93d9-67105476f8d1"
      },
      "execution_count": null,
      "outputs": [
        {
          "execution_count": 4,
          "output_type": "execute_result",
          "data": {
            "text/plain": "           symbol        open       close         low        high     volume\ndate                                                                        \n2016-12-30    ZBH  103.309998  103.199997  102.849998  103.930000   973800.0\n2016-12-30   ZION   43.070000   43.040001   42.689999   43.310001  1938100.0\n2016-12-30    ZTS   53.639999   53.529999   53.270000   53.740002  1701200.0\n2016-12-30    AIV   44.730000   45.450001   44.410000   45.590000  1380900.0\n2016-12-30    FTV   54.200001   53.630001   53.389999   54.480000   705100.0",
            "text/html": "<div>\n<style>\n    .dataframe thead tr:only-child th {\n        text-align: right;\n    }\n\n    .dataframe thead th {\n        text-align: left;\n    }\n\n    .dataframe tbody tr th {\n        vertical-align: top;\n    }\n</style>\n<table border=\"1\" class=\"dataframe\">\n  <thead>\n    <tr style=\"text-align: right;\">\n      <th></th>\n      <th>symbol</th>\n      <th>open</th>\n      <th>close</th>\n      <th>low</th>\n      <th>high</th>\n      <th>volume</th>\n    </tr>\n    <tr>\n      <th>date</th>\n      <th></th>\n      <th></th>\n      <th></th>\n      <th></th>\n      <th></th>\n      <th></th>\n    </tr>\n  </thead>\n  <tbody>\n    <tr>\n      <th>2016-12-30</th>\n      <td>ZBH</td>\n      <td>103.309998</td>\n      <td>103.199997</td>\n      <td>102.849998</td>\n      <td>103.930000</td>\n      <td>973800.0</td>\n    </tr>\n    <tr>\n      <th>2016-12-30</th>\n      <td>ZION</td>\n      <td>43.070000</td>\n      <td>43.040001</td>\n      <td>42.689999</td>\n      <td>43.310001</td>\n      <td>1938100.0</td>\n    </tr>\n    <tr>\n      <th>2016-12-30</th>\n      <td>ZTS</td>\n      <td>53.639999</td>\n      <td>53.529999</td>\n      <td>53.270000</td>\n      <td>53.740002</td>\n      <td>1701200.0</td>\n    </tr>\n    <tr>\n      <th>2016-12-30</th>\n      <td>AIV</td>\n      <td>44.730000</td>\n      <td>45.450001</td>\n      <td>44.410000</td>\n      <td>45.590000</td>\n      <td>1380900.0</td>\n    </tr>\n    <tr>\n      <th>2016-12-30</th>\n      <td>FTV</td>\n      <td>54.200001</td>\n      <td>53.630001</td>\n      <td>53.389999</td>\n      <td>54.480000</td>\n      <td>705100.0</td>\n    </tr>\n  </tbody>\n</table>\n</div>"
          },
          "metadata": {}
        }
      ]
    },
    {
      "cell_type": "code",
      "source": [
        "df.describe()"
      ],
      "metadata": {
        "_uuid": "60ee56dd22397b9c545ea7dcc318f5c733d419ba",
        "_cell_guid": "d1fc9207-adcd-44f4-85a1-065d34fd82f2",
        "execution": {
          "iopub.status.busy": "2024-10-09T17:10:52.491657Z",
          "iopub.execute_input": "2024-10-09T17:10:52.491983Z",
          "iopub.status.idle": "2024-10-09T17:10:52.836861Z",
          "shell.execute_reply.started": "2024-10-09T17:10:52.491926Z",
          "shell.execute_reply": "2024-10-09T17:10:52.835883Z"
        },
        "trusted": true,
        "id": "vTRFr_tucfbf",
        "outputId": "e53033ae-66c0-4095-973b-6be41b6d1b13"
      },
      "execution_count": null,
      "outputs": [
        {
          "execution_count": 5,
          "output_type": "execute_result",
          "data": {
            "text/plain": "                open          close            low           high  \\\ncount  851264.000000  851264.000000  851264.000000  851264.000000   \nmean       64.993618      65.011913      64.336541      65.639748   \nstd        75.203893      75.201216      74.459518      75.906861   \nmin         1.660000       1.590000       1.500000       1.810000   \n25%        31.270000      31.292776      30.940001      31.620001   \n50%        48.459999      48.480000      47.970001      48.959999   \n75%        75.120003      75.139999      74.400002      75.849998   \nmax      1584.439941    1578.130005    1549.939941    1600.930054   \n\n             volume  \ncount  8.512640e+05  \nmean   5.415113e+06  \nstd    1.249468e+07  \nmin    0.000000e+00  \n25%    1.221500e+06  \n50%    2.476250e+06  \n75%    5.222500e+06  \nmax    8.596434e+08  ",
            "text/html": "<div>\n<style>\n    .dataframe thead tr:only-child th {\n        text-align: right;\n    }\n\n    .dataframe thead th {\n        text-align: left;\n    }\n\n    .dataframe tbody tr th {\n        vertical-align: top;\n    }\n</style>\n<table border=\"1\" class=\"dataframe\">\n  <thead>\n    <tr style=\"text-align: right;\">\n      <th></th>\n      <th>open</th>\n      <th>close</th>\n      <th>low</th>\n      <th>high</th>\n      <th>volume</th>\n    </tr>\n  </thead>\n  <tbody>\n    <tr>\n      <th>count</th>\n      <td>851264.000000</td>\n      <td>851264.000000</td>\n      <td>851264.000000</td>\n      <td>851264.000000</td>\n      <td>8.512640e+05</td>\n    </tr>\n    <tr>\n      <th>mean</th>\n      <td>64.993618</td>\n      <td>65.011913</td>\n      <td>64.336541</td>\n      <td>65.639748</td>\n      <td>5.415113e+06</td>\n    </tr>\n    <tr>\n      <th>std</th>\n      <td>75.203893</td>\n      <td>75.201216</td>\n      <td>74.459518</td>\n      <td>75.906861</td>\n      <td>1.249468e+07</td>\n    </tr>\n    <tr>\n      <th>min</th>\n      <td>1.660000</td>\n      <td>1.590000</td>\n      <td>1.500000</td>\n      <td>1.810000</td>\n      <td>0.000000e+00</td>\n    </tr>\n    <tr>\n      <th>25%</th>\n      <td>31.270000</td>\n      <td>31.292776</td>\n      <td>30.940001</td>\n      <td>31.620001</td>\n      <td>1.221500e+06</td>\n    </tr>\n    <tr>\n      <th>50%</th>\n      <td>48.459999</td>\n      <td>48.480000</td>\n      <td>47.970001</td>\n      <td>48.959999</td>\n      <td>2.476250e+06</td>\n    </tr>\n    <tr>\n      <th>75%</th>\n      <td>75.120003</td>\n      <td>75.139999</td>\n      <td>74.400002</td>\n      <td>75.849998</td>\n      <td>5.222500e+06</td>\n    </tr>\n    <tr>\n      <th>max</th>\n      <td>1584.439941</td>\n      <td>1578.130005</td>\n      <td>1549.939941</td>\n      <td>1600.930054</td>\n      <td>8.596434e+08</td>\n    </tr>\n  </tbody>\n</table>\n</div>"
          },
          "metadata": {}
        }
      ]
    },
    {
      "cell_type": "code",
      "source": [
        "# Assuming your DataFrame is named df\n",
        "distinct_symbols = df['symbol'].unique()\n",
        "\n",
        "# Display the distinct values\n",
        "#print(len(distinct_symbols)) : 501 values.\n"
      ],
      "metadata": {
        "_uuid": "ef59e62b988d2b0bfd00f834a7ecc17cb927dfc9",
        "_cell_guid": "8e1e0b13-c1da-4fe1-b971-bb2ebcad453b",
        "execution": {
          "iopub.status.busy": "2024-10-09T17:10:54.292245Z",
          "iopub.execute_input": "2024-10-09T17:10:54.292728Z",
          "iopub.status.idle": "2024-10-09T17:10:54.345125Z",
          "shell.execute_reply.started": "2024-10-09T17:10:54.292656Z",
          "shell.execute_reply": "2024-10-09T17:10:54.343748Z"
        },
        "trusted": true,
        "id": "Lx23wGU6cfbg"
      },
      "execution_count": null,
      "outputs": []
    },
    {
      "cell_type": "code",
      "source": [
        "#configurations for matplotlib.\n",
        "\n",
        "plt.figure(figsize=(15, 5));\n",
        "plt.subplot(1,2,1);\n",
        "plt.plot(df[df.symbol == 'EQIX'].open.values, color='red', label='open')\n",
        "plt.plot(df[df.symbol == 'EQIX'].close.values, color='green', label='close')\n",
        "plt.plot(df[df.symbol == 'EQIX'].low.values, color='blue', label='low')\n",
        "plt.plot(df[df.symbol == 'EQIX'].high.values, color='black', label='high')\n",
        "plt.title('stock price')\n",
        "plt.xlabel('time [days]')\n",
        "plt.ylabel('price')\n",
        "plt.legend(loc='best')\n",
        "#plt.show()\n",
        "\n",
        "plt.subplot(1,2,2);\n",
        "plt.plot(df[df.symbol == 'EQIX'].volume.values, color='black', label='volume')\n",
        "plt.title('stock volume')\n",
        "plt.xlabel('time [days]')\n",
        "plt.ylabel('volume')\n",
        "plt.legend(loc='best');"
      ],
      "metadata": {
        "_uuid": "1235c99db35b562f09d6fb5721368bcab68e307d",
        "_cell_guid": "ce84999a-306f-4586-b8d6-dc3a0ab9ab67",
        "execution": {
          "iopub.status.busy": "2024-10-09T17:10:54.69152Z",
          "iopub.execute_input": "2024-10-09T17:10:54.691889Z",
          "iopub.status.idle": "2024-10-09T17:10:56.384056Z",
          "shell.execute_reply.started": "2024-10-09T17:10:54.691821Z",
          "shell.execute_reply": "2024-10-09T17:10:56.382891Z"
        },
        "trusted": true,
        "id": "pncq4gldcfbh",
        "outputId": "91c1229b-950b-4e19-afe5-0a17db98c698"
      },
      "execution_count": null,
      "outputs": [
        {
          "output_type": "display_data",
          "data": {
            "text/plain": "<matplotlib.figure.Figure at 0x7948b0659668>",
            "image/png": "[encoded data removed]"
          },
          "metadata": {}
        }
      ]
    },
    {
      "cell_type": "markdown",
      "source": [
        "# 3. Manipulate data <a class=\"anchor\" id=\"3-bullet\"></a>\n",
        "- choose a specific stock\n",
        "- drop feature: volume\n",
        "- normalize stock data\n",
        "- create train, validation and test data sets"
      ],
      "metadata": {
        "_uuid": "777e047511205f929abf0867c7c8a2edee2531ca",
        "_cell_guid": "73ad0def-f162-42b9-a1d6-aac45be27e81",
        "id": "ciIDCmczcfbj"
      }
    },
    {
      "cell_type": "code",
      "source": [
        "# function for min-max normalization of stock\n",
        "def normalize_data(df):\n",
        "    min_max_scaler = sklearn.preprocessing.MinMaxScaler()\n",
        "    df['open'] = min_max_scaler.fit_transform(df.open.values.reshape(-1,1))\n",
        "    df['high'] = min_max_scaler.fit_transform(df.high.values.reshape(-1,1))\n",
        "    df['low'] = min_max_scaler.fit_transform(df.low.values.reshape(-1,1))\n",
        "    df['close'] = min_max_scaler.fit_transform(df['close'].values.reshape(-1,1))\n",
        "    return df\n",
        "\n",
        "# function to create train, validation, test data given stock data and sequence length\n",
        "def load_data(stock, seq_len):\n",
        "    data_raw = stock.as_matrix() # convert to numpy array\n",
        "    data = []\n",
        "\n",
        "    # create all possible sequences of length seq_len\n",
        "    for index in range(len(data_raw) - seq_len):\n",
        "        data.append(data_raw[index: index + seq_len])\n",
        "\n",
        "    data = np.array(data);\n",
        "    valid_set_size = int(np.round(valid_set_size_percentage/100*data.shape[0]));\n",
        "    test_set_size = int(np.round(test_set_size_percentage/100*data.shape[0]));\n",
        "    train_set_size = data.shape[0] - (valid_set_size + test_set_size);\n",
        "\n",
        "    x_train = data[:train_set_size,:-1,:]\n",
        "    y_train = data[:train_set_size,-1,:]\n",
        "\n",
        "    x_valid = data[train_set_size:train_set_size+valid_set_size,:-1,:]\n",
        "    y_valid = data[train_set_size:train_set_size+valid_set_size,-1,:]\n",
        "\n",
        "    x_test = data[train_set_size+valid_set_size:,:-1,:]\n",
        "    y_test = data[train_set_size+valid_set_size:,-1,:]\n",
        "\n",
        "    return [x_train, y_train, x_valid, y_valid, x_test, y_test]\n",
        "\n",
        "# choose one stock\n",
        "df_stock = df[df.symbol == 'EQIX'].copy()\n",
        "df_stock.drop(['symbol'],1,inplace=True)\n",
        "df_stock.drop(['volume'],1,inplace=True)\n",
        "\n",
        "cols = list(df_stock.columns.values)\n",
        "print('df_stock.columns.values = ', cols)\n",
        "\n",
        "# normalize stock\n",
        "df_stock_norm = df_stock.copy()\n",
        "df_stock_norm = normalize_data(df_stock_norm)\n",
        "\n",
        "# create train, test data\n",
        "seq_len = 20 # choose sequence length\n",
        "x_train, y_train, x_valid, y_valid, x_test, y_test = load_data(df_stock_norm, seq_len)\n",
        "print('x_train.shape = ',x_train.shape)\n",
        "print('y_train.shape = ', y_train.shape)\n",
        "print('x_valid.shape = ',x_valid.shape)\n",
        "print('y_valid.shape = ', y_valid.shape)\n",
        "print('x_test.shape = ', x_test.shape)\n",
        "print('y_test.shape = ',y_test.shape)\n"
      ],
      "metadata": {
        "_uuid": "3333a7ef79ad756a4b0190e8aef2ed8b3624d7d8",
        "_cell_guid": "e577ab98-344e-4a8e-88c2-09a7d45834b9",
        "execution": {
          "iopub.status.busy": "2024-10-08T07:33:58.322863Z",
          "iopub.execute_input": "2024-10-08T07:33:58.323359Z",
          "iopub.status.idle": "2024-10-08T07:33:58.76254Z",
          "shell.execute_reply.started": "2024-10-08T07:33:58.323298Z",
          "shell.execute_reply": "2024-10-08T07:33:58.761559Z"
        },
        "trusted": true,
        "id": "G3FUzW99cfbl",
        "outputId": "c973dbd3-6390-470f-aa95-185f35b58368"
      },
      "execution_count": null,
      "outputs": [
        {
          "name": "stdout",
          "text": "df_stock.columns.values =  ['open', 'close', 'low', 'high']\nx_train.shape =  (1394, 19, 4)\ny_train.shape =  (1394, 4)\nx_valid.shape =  (174, 19, 4)\ny_valid.shape =  (174, 4)\nx_test.shape =  (174, 19, 4)\ny_test.shape =  (174, 4)\n",
          "output_type": "stream"
        }
      ]
    },
    {
      "cell_type": "code",
      "source": [
        "plt.figure(figsize=(15, 5));\n",
        "plt.plot(df_stock_norm.open.values, color='red', label='open')\n",
        "plt.plot(df_stock_norm.close.values, color='green', label='low')\n",
        "plt.plot(df_stock_norm.low.values, color='blue', label='low')\n",
        "plt.plot(df_stock_norm.high.values, color='black', label='high')\n",
        "#plt.plot(df_stock_norm.volume.values, color='gray', label='volume')\n",
        "plt.title('stock')\n",
        "plt.xlabel('time [days]')\n",
        "plt.ylabel('normalized price/volume')\n",
        "plt.legend(loc='best')\n",
        "plt.show()"
      ],
      "metadata": {
        "scrolled": true,
        "_uuid": "c5ce171e4160f5e0175e4e5ab8e242f181262440",
        "_cell_guid": "27e07a3b-89ea-48cc-bd86-023785634d1e",
        "collapsed": true,
        "jupyter": {
          "outputs_hidden": true
        },
        "id": "y80-chH8cfbm"
      },
      "execution_count": null,
      "outputs": []
    },
    {
      "cell_type": "markdown",
      "source": [
        "# 4. Model and validate data <a class=\"anchor\" id=\"4-bullet\"></a>\n",
        "- RNNs with basic, LSTM, GRU cells\n"
      ],
      "metadata": {
        "_uuid": "a495f69f3a265f419cd5aa0a4119a8b0392365fd",
        "_cell_guid": "4375362b-7a7c-4572-947c-91f46c4fd77c",
        "id": "RwLXrQ-Lcfbn"
      }
    },
    {
      "cell_type": "code",
      "source": [
        "## Basic Cell RNN in tensorflow\n",
        "\n",
        "index_in_epoch = 0;\n",
        "perm_array  = np.arange(x_train.shape[0])\n",
        "np.random.shuffle(perm_array)\n",
        "\n",
        "# function to get the next batch\n",
        "def get_next_batch(batch_size):\n",
        "    global index_in_epoch, x_train, perm_array\n",
        "    start = index_in_epoch\n",
        "    index_in_epoch += batch_size\n",
        "\n",
        "    if index_in_epoch > x_train.shape[0]:\n",
        "        np.random.shuffle(perm_array) # shuffle permutation array\n",
        "        start = 0 # start next epoch\n",
        "        index_in_epoch = batch_size\n",
        "\n",
        "    end = index_in_epoch\n",
        "    return x_train[perm_array[start:end]], y_train[perm_array[start:end]]\n",
        "\n",
        "# parameters\n",
        "n_steps = seq_len-1\n",
        "n_inputs = 4\n",
        "n_neurons = 200\n",
        "n_outputs = 4\n",
        "n_layers = 2\n",
        "learning_rate = 0.001\n",
        "batch_size = 50\n",
        "n_epochs = 100\n",
        "train_set_size = x_train.shape[0]\n",
        "test_set_size = x_test.shape[0]\n",
        "\n",
        "tf.reset_default_graph()\n",
        "\n",
        "X = tf.placeholder(tf.float32, [None, n_steps, n_inputs])\n",
        "y = tf.placeholder(tf.float32, [None, n_outputs])\n",
        "\n",
        "# use Basic RNN Cell\n",
        "layers = [tf.contrib.rnn.BasicRNNCell(num_units=n_neurons, activation=tf.nn.elu)\n",
        "          for layer in range(n_layers)]\n",
        "\n",
        "# use Basic LSTM Cell\n",
        "#layers = [tf.contrib.rnn.BasicLSTMCell(num_units=n_neurons, activation=tf.nn.elu)\n",
        "#          for layer in range(n_layers)]\n",
        "\n",
        "# use LSTM Cell with peephole connections\n",
        "#layers = [tf.contrib.rnn.LSTMCell(num_units=n_neurons,\n",
        "#                                  activation=tf.nn.leaky_relu, use_peepholes = True)\n",
        "#          for layer in range(n_layers)]\n",
        "\n",
        "# use GRU cell\n",
        "#layers = [tf.contrib.rnn.GRUCell(num_units=n_neurons, activation=tf.nn.leaky_relu)\n",
        "#          for layer in range(n_layers)]\n",
        "\n",
        "multi_layer_cell = tf.contrib.rnn.MultiRNNCell(layers)\n",
        "rnn_outputs, states = tf.nn.dynamic_rnn(multi_layer_cell, X, dtype=tf.float32)\n",
        "\n",
        "stacked_rnn_outputs = tf.reshape(rnn_outputs, [-1, n_neurons])\n",
        "stacked_outputs = tf.layers.dense(stacked_rnn_outputs, n_outputs)\n",
        "outputs = tf.reshape(stacked_outputs, [-1, n_steps, n_outputs])\n",
        "outputs = outputs[:,n_steps-1,:] # keep only last output of sequence\n",
        "\n",
        "loss = tf.reduce_mean(tf.square(outputs - y)) # loss function = mean squared error\n",
        "optimizer = tf.train.AdamOptimizer(learning_rate=learning_rate)\n",
        "training_op = optimizer.minimize(loss)\n",
        "\n",
        "# run graph\n",
        "with tf.Session() as sess:\n",
        "    sess.run(tf.global_variables_initializer())\n",
        "    for iteration in range(int(n_epochs*train_set_size/batch_size)):\n",
        "        x_batch, y_batch = get_next_batch(batch_size) # fetch the next training batch\n",
        "        sess.run(training_op, feed_dict={X: x_batch, y: y_batch})\n",
        "        if iteration % int(5*train_set_size/batch_size) == 0:\n",
        "            mse_train = loss.eval(feed_dict={X: x_train, y: y_train})\n",
        "            mse_valid = loss.eval(feed_dict={X: x_valid, y: y_valid})\n",
        "            print('%.2f epochs: MSE train/valid = %.6f/%.6f'%(\n",
        "                iteration*batch_size/train_set_size, mse_train, mse_valid))\n",
        "\n",
        "    y_train_pred = sess.run(outputs, feed_dict={X: x_train})\n",
        "    y_valid_pred = sess.run(outputs, feed_dict={X: x_valid})\n",
        "    y_test_pred = sess.run(outputs, feed_dict={X: x_test})\n",
        ""
      ],
      "metadata": {
        "_uuid": "b5015613883c52563da5f8e5be8d6adeb274e420",
        "_cell_guid": "dde96de3-fef3-45cf-959c-22171a28a3b6",
        "collapsed": true,
        "jupyter": {
          "outputs_hidden": true
        },
        "id": "_6rR1iracfbo"
      },
      "execution_count": null,
      "outputs": []
    },
    {
      "cell_type": "markdown",
      "source": [
        "# 5. Predictions <a class=\"anchor\" id=\"5-bullet\"></a>"
      ],
      "metadata": {
        "_uuid": "a88583a9effb6f1f84e13b8853adca62578c2992",
        "_cell_guid": "9035de79-0f5c-4b6b-bc86-0d8d4e2f392e",
        "id": "09qHpxgecfbp"
      }
    },
    {
      "cell_type": "code",
      "source": [
        "y_train.shape"
      ],
      "metadata": {
        "_uuid": "2923055320991790fe0c8c0ffa3e75558e5c313a",
        "_cell_guid": "412b33a3-1e02-4ed5-9846-9984022492bd",
        "collapsed": true,
        "jupyter": {
          "outputs_hidden": true
        },
        "id": "xeks-T3tcfbq"
      },
      "execution_count": null,
      "outputs": []
    },
    {
      "cell_type": "code",
      "source": [
        "ft = 0 # 0 = open, 1 = close, 2 = highest, 3 = lowest\n",
        "\n",
        "## show predictions\n",
        "plt.figure(figsize=(15, 5));\n",
        "plt.subplot(1,2,1);\n",
        "\n",
        "plt.plot(np.arange(y_train.shape[0]), y_train[:,ft], color='blue', label='train target')\n",
        "\n",
        "plt.plot(np.arange(y_train.shape[0], y_train.shape[0]+y_valid.shape[0]), y_valid[:,ft],\n",
        "         color='gray', label='valid target')\n",
        "\n",
        "plt.plot(np.arange(y_train.shape[0]+y_valid.shape[0],\n",
        "                   y_train.shape[0]+y_test.shape[0]+y_test.shape[0]),\n",
        "         y_test[:,ft], color='black', label='test target')\n",
        "\n",
        "plt.plot(np.arange(y_train_pred.shape[0]),y_train_pred[:,ft], color='red',\n",
        "         label='train prediction')\n",
        "\n",
        "plt.plot(np.arange(y_train_pred.shape[0], y_train_pred.shape[0]+y_valid_pred.shape[0]),\n",
        "         y_valid_pred[:,ft], color='orange', label='valid prediction')\n",
        "\n",
        "plt.plot(np.arange(y_train_pred.shape[0]+y_valid_pred.shape[0],\n",
        "                   y_train_pred.shape[0]+y_valid_pred.shape[0]+y_test_pred.shape[0]),\n",
        "         y_test_pred[:,ft], color='green', label='test prediction')\n",
        "\n",
        "plt.title('past and future stock prices')\n",
        "plt.xlabel('time [days]')\n",
        "plt.ylabel('normalized price')\n",
        "plt.legend(loc='best');\n",
        "\n",
        "plt.subplot(1,2,2);\n",
        "\n",
        "plt.plot(np.arange(y_train.shape[0], y_train.shape[0]+y_test.shape[0]),\n",
        "         y_test[:,ft], color='black', label='test target')\n",
        "\n",
        "plt.plot(np.arange(y_train_pred.shape[0], y_train_pred.shape[0]+y_test_pred.shape[0]),\n",
        "         y_test_pred[:,ft], color='green', label='test prediction')\n",
        "\n",
        "plt.title('future stock prices')\n",
        "plt.xlabel('time [days]')\n",
        "plt.ylabel('normalized price')\n",
        "plt.legend(loc='best');\n",
        "\n",
        "corr_price_development_train = np.sum(np.equal(np.sign(y_train[:,1]-y_train[:,0]),\n",
        "            np.sign(y_train_pred[:,1]-y_train_pred[:,0])).astype(int)) / y_train.shape[0]\n",
        "corr_price_development_valid = np.sum(np.equal(np.sign(y_valid[:,1]-y_valid[:,0]),\n",
        "            np.sign(y_valid_pred[:,1]-y_valid_pred[:,0])).astype(int)) / y_valid.shape[0]\n",
        "corr_price_development_test = np.sum(np.equal(np.sign(y_test[:,1]-y_test[:,0]),\n",
        "            np.sign(y_test_pred[:,1]-y_test_pred[:,0])).astype(int)) / y_test.shape[0]\n",
        "\n",
        "print('correct sign prediction for close - open price for train/valid/test: %.2f/%.2f/%.2f'%(\n",
        "    corr_price_development_train, corr_price_development_valid, corr_price_development_test))\n"
      ],
      "metadata": {
        "_uuid": "6fa5eb60c8e8a5d3542547629c3e0df14e5c33a3",
        "_cell_guid": "1bb898b9-943e-4e6f-b43d-8bdb6331cc4e",
        "collapsed": true,
        "jupyter": {
          "outputs_hidden": true
        },
        "id": "q1n-GGxRcfbr"
      },
      "execution_count": null,
      "outputs": []
    },
    {
      "cell_type": "code",
      "source": [],
      "metadata": {
        "id": "wPrlFkbRdIEk"
      },
      "execution_count": null,
      "outputs": []
    }
  ]
}